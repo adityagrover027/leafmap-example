{
 "cells": [
  {
   "cell_type": "code",
   "execution_count": 20,
   "id": "c2164beb",
   "metadata": {},
   "outputs": [],
   "source": [
    "import pandas as pd\n",
    "import leafmap.leafmap as leafmap"
   ]
  },
  {
   "cell_type": "code",
   "execution_count": 24,
   "id": "5252bf36",
   "metadata": {},
   "outputs": [],
   "source": [
    "m = leafmap.Map(center=(41,28),zoom=7)"
   ]
  },
  {
   "cell_type": "code",
   "execution_count": 25,
   "id": "ea1c0648",
   "metadata": {},
   "outputs": [],
   "source": [
    "# Add Tile Layers from XYZ Links\n",
    "m.add_tile_layer(url=\"http://tiles.wmflabs.org/bw-mapnik/{z}/{x}/{y}.png\", name=\"OSM Black & White\")\n",
    "m.add_tile_layer(url=\"https://server.arcgisonline.com/ArcGIS/rest/services/World_Topo_Map/MapServer/tile/{z}/{y}/{x}\", name=\"Esri Topo\")\n",
    "m.add_tile_layer(url=\"https://mt1.google.com/vt/lyrs=y&x={x}&y={y}&z={z}\", name=\"Google Satellite\")"
   ]
  },
  {
   "cell_type": "code",
   "execution_count": 26,
   "id": "3dd42a63",
   "metadata": {},
   "outputs": [
    {
     "data": {
      "application/vnd.jupyter.widget-view+json": {
       "model_id": "9db1e9d55266486d9d8fa6d2b8aaf42b",
       "version_major": 2,
       "version_minor": 0
      },
      "text/plain": [
       "Map(center=[41, 28], controls=(ZoomControl(options=['position', 'zoom_in_text', 'zoom_in_title', 'zoom_out_tex…"
      ]
     },
     "metadata": {},
     "output_type": "display_data"
    }
   ],
   "source": [
    "m"
   ]
  },
  {
   "cell_type": "code",
   "execution_count": 27,
   "id": "f8802418",
   "metadata": {},
   "outputs": [],
   "source": [
    "csv_file = 'data/turkey.csv'"
   ]
  },
  {
   "cell_type": "code",
   "execution_count": 28,
   "id": "9ff3d907",
   "metadata": {},
   "outputs": [
    {
     "data": {
      "text/html": [
       "<div>\n",
       "<style scoped>\n",
       "    .dataframe tbody tr th:only-of-type {\n",
       "        vertical-align: middle;\n",
       "    }\n",
       "\n",
       "    .dataframe tbody tr th {\n",
       "        vertical-align: top;\n",
       "    }\n",
       "\n",
       "    .dataframe thead th {\n",
       "        text-align: right;\n",
       "    }\n",
       "</style>\n",
       "<table border=\"1\" class=\"dataframe\">\n",
       "  <thead>\n",
       "    <tr style=\"text-align: right;\">\n",
       "      <th></th>\n",
       "      <th>Timestamp</th>\n",
       "      <th>Offset</th>\n",
       "      <th>Venue</th>\n",
       "      <th>Lat</th>\n",
       "      <th>Lon</th>\n",
       "      <th>Pincode</th>\n",
       "      <th>Country Code</th>\n",
       "      <th>City</th>\n",
       "      <th>State</th>\n",
       "      <th>Country</th>\n",
       "      <th>Address</th>\n",
       "      <th>Subcategory</th>\n",
       "      <th>Event Name</th>\n",
       "      <th>Mayorship</th>\n",
       "      <th>Date_Time_GMT</th>\n",
       "      <th>Date_Time_Local</th>\n",
       "      <th>Category</th>\n",
       "      <th>Marker</th>\n",
       "    </tr>\n",
       "  </thead>\n",
       "  <tbody>\n",
       "    <tr>\n",
       "      <th>0</th>\n",
       "      <td>1543914307</td>\n",
       "      <td>180</td>\n",
       "      <td>Popeyes</td>\n",
       "      <td>40.977803</td>\n",
       "      <td>28.820832</td>\n",
       "      <td>NaN</td>\n",
       "      <td>TR</td>\n",
       "      <td>Istanbul</td>\n",
       "      <td>Istanbul</td>\n",
       "      <td>Turkey</td>\n",
       "      <td>İstanbul Havaalanı Istanbul Turkey</td>\n",
       "      <td>Fast Food Restaurant</td>\n",
       "      <td>NaN</td>\n",
       "      <td>False</td>\n",
       "      <td>2018-12-04 09:05:07</td>\n",
       "      <td>2018-12-04 12:05:07</td>\n",
       "      <td>Food/Drink</td>\n",
       "      <td>fast-food</td>\n",
       "    </tr>\n",
       "    <tr>\n",
       "      <th>1</th>\n",
       "      <td>1543913992</td>\n",
       "      <td>180</td>\n",
       "      <td>Food Court</td>\n",
       "      <td>40.976981</td>\n",
       "      <td>28.818451</td>\n",
       "      <td>NaN</td>\n",
       "      <td>TR</td>\n",
       "      <td>Istanbul</td>\n",
       "      <td>Istanbul</td>\n",
       "      <td>Turkey</td>\n",
       "      <td>Ataturk International Airport Istanbul Turkey</td>\n",
       "      <td>Airport Food Court</td>\n",
       "      <td>NaN</td>\n",
       "      <td>False</td>\n",
       "      <td>2018-12-04 08:59:52</td>\n",
       "      <td>2018-12-04 11:59:52</td>\n",
       "      <td>Food/Drink</td>\n",
       "      <td>restaurant</td>\n",
       "    </tr>\n",
       "    <tr>\n",
       "      <th>2</th>\n",
       "      <td>1543865576</td>\n",
       "      <td>180</td>\n",
       "      <td>Stone House Bistro Cafe Restaurant</td>\n",
       "      <td>41.003500</td>\n",
       "      <td>28.973530</td>\n",
       "      <td>34122.0</td>\n",
       "      <td>TR</td>\n",
       "      <td>NaN</td>\n",
       "      <td>Istanbul</td>\n",
       "      <td>Turkey</td>\n",
       "      <td>34122 Turkey</td>\n",
       "      <td>Turkish Restaurant</td>\n",
       "      <td>NaN</td>\n",
       "      <td>False</td>\n",
       "      <td>2018-12-03 19:32:56</td>\n",
       "      <td>2018-12-03 22:32:56</td>\n",
       "      <td>Food/Drink</td>\n",
       "      <td>restaurant</td>\n",
       "    </tr>\n",
       "    <tr>\n",
       "      <th>3</th>\n",
       "      <td>1543854777</td>\n",
       "      <td>180</td>\n",
       "      <td>Palatium cafe and restaurant</td>\n",
       "      <td>41.006163</td>\n",
       "      <td>28.980315</td>\n",
       "      <td>34122.0</td>\n",
       "      <td>TR</td>\n",
       "      <td>Istanbul</td>\n",
       "      <td>Istanbul</td>\n",
       "      <td>Turkey</td>\n",
       "      <td>Cankurtaran Mah kutlugun sokak SultanAhmet , F...</td>\n",
       "      <td>Turkish Restaurant</td>\n",
       "      <td>NaN</td>\n",
       "      <td>False</td>\n",
       "      <td>2018-12-03 16:32:57</td>\n",
       "      <td>2018-12-03 19:32:57</td>\n",
       "      <td>Food/Drink</td>\n",
       "      <td>restaurant</td>\n",
       "    </tr>\n",
       "    <tr>\n",
       "      <th>4</th>\n",
       "      <td>1543841591</td>\n",
       "      <td>180</td>\n",
       "      <td>inci gourmet kapalıçarşı</td>\n",
       "      <td>41.011972</td>\n",
       "      <td>28.967429</td>\n",
       "      <td>NaN</td>\n",
       "      <td>TR</td>\n",
       "      <td>NaN</td>\n",
       "      <td>NaN</td>\n",
       "      <td>Turkey</td>\n",
       "      <td>Turkey</td>\n",
       "      <td>Kebab Restaurant</td>\n",
       "      <td>NaN</td>\n",
       "      <td>False</td>\n",
       "      <td>2018-12-03 12:53:11</td>\n",
       "      <td>2018-12-03 15:53:11</td>\n",
       "      <td>Food/Drink</td>\n",
       "      <td>restaurant</td>\n",
       "    </tr>\n",
       "  </tbody>\n",
       "</table>\n",
       "</div>"
      ],
      "text/plain": [
       "    Timestamp  Offset                               Venue        Lat  \\\n",
       "0  1543914307     180                             Popeyes  40.977803   \n",
       "1  1543913992     180                          Food Court  40.976981   \n",
       "2  1543865576     180  Stone House Bistro Cafe Restaurant  41.003500   \n",
       "3  1543854777     180        Palatium cafe and restaurant  41.006163   \n",
       "4  1543841591     180            inci gourmet kapalıçarşı  41.011972   \n",
       "\n",
       "         Lon  Pincode Country Code      City     State Country  \\\n",
       "0  28.820832      NaN           TR  Istanbul  Istanbul  Turkey   \n",
       "1  28.818451      NaN           TR  Istanbul  Istanbul  Turkey   \n",
       "2  28.973530  34122.0           TR       NaN  Istanbul  Turkey   \n",
       "3  28.980315  34122.0           TR  Istanbul  Istanbul  Turkey   \n",
       "4  28.967429      NaN           TR       NaN       NaN  Turkey   \n",
       "\n",
       "                                             Address           Subcategory  \\\n",
       "0                 İstanbul Havaalanı Istanbul Turkey  Fast Food Restaurant   \n",
       "1      Ataturk International Airport Istanbul Turkey    Airport Food Court   \n",
       "2                                       34122 Turkey    Turkish Restaurant   \n",
       "3  Cankurtaran Mah kutlugun sokak SultanAhmet , F...    Turkish Restaurant   \n",
       "4                                             Turkey      Kebab Restaurant   \n",
       "\n",
       "   Event Name  Mayorship        Date_Time_GMT      Date_Time_Local  \\\n",
       "0         NaN      False  2018-12-04 09:05:07  2018-12-04 12:05:07   \n",
       "1         NaN      False  2018-12-04 08:59:52  2018-12-04 11:59:52   \n",
       "2         NaN      False  2018-12-03 19:32:56  2018-12-03 22:32:56   \n",
       "3         NaN      False  2018-12-03 16:32:57  2018-12-03 19:32:57   \n",
       "4         NaN      False  2018-12-03 12:53:11  2018-12-03 15:53:11   \n",
       "\n",
       "     Category      Marker  \n",
       "0  Food/Drink   fast-food  \n",
       "1  Food/Drink  restaurant  \n",
       "2  Food/Drink  restaurant  \n",
       "3  Food/Drink  restaurant  \n",
       "4  Food/Drink  restaurant  "
      ]
     },
     "execution_count": 28,
     "metadata": {},
     "output_type": "execute_result"
    }
   ],
   "source": [
    "df = leafmap.csv_to_pandas(csv_file)\n",
    "df.head()"
   ]
  },
  {
   "cell_type": "code",
   "execution_count": 29,
   "id": "3b699258",
   "metadata": {},
   "outputs": [
    {
     "data": {
      "application/vnd.jupyter.widget-view+json": {
       "model_id": "9db1e9d55266486d9d8fa6d2b8aaf42b",
       "version_major": 2,
       "version_minor": 0
      },
      "text/plain": [
       "Map(bottom=12586.0, center=[41, 28], controls=(ZoomControl(options=['position', 'zoom_in_text', 'zoom_in_title…"
      ]
     },
     "metadata": {},
     "output_type": "display_data"
    }
   ],
   "source": [
    "#Add coordinates to map\n",
    "m.add_xy_data(csv_file, x=\"Lon\", y=\"Lat\", layer_name=\"Turkey\")\n",
    "m"
   ]
  },
  {
   "cell_type": "code",
   "execution_count": null,
   "id": "668a9490",
   "metadata": {},
   "outputs": [],
   "source": []
  }
 ],
 "metadata": {
  "kernelspec": {
   "display_name": "Python 3",
   "language": "python",
   "name": "python3"
  },
  "language_info": {
   "codemirror_mode": {
    "name": "ipython",
    "version": 3
   },
   "file_extension": ".py",
   "mimetype": "text/x-python",
   "name": "python",
   "nbconvert_exporter": "python",
   "pygments_lexer": "ipython3",
   "version": "3.8.8"
  }
 },
 "nbformat": 4,
 "nbformat_minor": 5
}
